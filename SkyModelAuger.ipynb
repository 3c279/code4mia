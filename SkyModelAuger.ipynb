{
 "cells": [
  {
   "cell_type": "code",
   "execution_count": 1,
   "id": "2ce3ca70",
   "metadata": {},
   "outputs": [],
   "source": [
    "%matplotlib inline"
   ]
  },
  {
   "cell_type": "code",
   "execution_count": 2,
   "id": "66d3aaee",
   "metadata": {},
   "outputs": [],
   "source": [
    "from pygsm import GlobalSkyModel2016\n",
    "from pygsm import GlobalSkyModel"
   ]
  },
  {
   "cell_type": "code",
   "execution_count": 3,
   "id": "e67399a8",
   "metadata": {},
   "outputs": [
    {
     "ename": "OSError",
     "evalue": "Unable to open file (file signature not found)",
     "output_type": "error",
     "traceback": [
      "\u001b[0;31m---------------------------------------------------------------------------\u001b[0m",
      "\u001b[0;31mOSError\u001b[0m                                   Traceback (most recent call last)",
      "Input \u001b[0;32mIn [3]\u001b[0m, in \u001b[0;36m<cell line: 1>\u001b[0;34m()\u001b[0m\n\u001b[0;32m----> 1\u001b[0m gsm_2016 \u001b[38;5;241m=\u001b[39m \u001b[43mGlobalSkyModel2016\u001b[49m\u001b[43m(\u001b[49m\u001b[43mfreq_unit\u001b[49m\u001b[38;5;241;43m=\u001b[39;49m\u001b[38;5;124;43m'\u001b[39;49m\u001b[38;5;124;43mMHz\u001b[39;49m\u001b[38;5;124;43m'\u001b[39;49m\u001b[43m)\u001b[49m\n\u001b[1;32m      2\u001b[0m gsm_2016\u001b[38;5;241m.\u001b[39mgenerate(\u001b[38;5;241m500\u001b[39m)\n\u001b[1;32m      3\u001b[0m gsm_2016\u001b[38;5;241m.\u001b[39mview(logged\u001b[38;5;241m=\u001b[39m\u001b[38;5;28;01mTrue\u001b[39;00m)\n",
      "File \u001b[0;32m~/anaconda3/envs/21cm/lib/python3.8/site-packages/pygsm-2.0.0-py3.8.egg/pygsm/pygsm2016.py:83\u001b[0m, in \u001b[0;36mGlobalSkyModel2016.__init__\u001b[0;34m(self, freq_unit, unit, resolution, theta_rot, phi_rot)\u001b[0m\n\u001b[1;32m     80\u001b[0m \u001b[38;5;28;01melse\u001b[39;00m:\n\u001b[1;32m     81\u001b[0m     \u001b[38;5;28;01mraise\u001b[39;00m \u001b[38;5;167;01mRuntimeError\u001b[39;00m(\u001b[38;5;124m\"\u001b[39m\u001b[38;5;124mRESOLUTION ERROR: Must be either hi or low, not \u001b[39m\u001b[38;5;132;01m%s\u001b[39;00m\u001b[38;5;124m\"\u001b[39m \u001b[38;5;241m%\u001b[39m resolution)\n\u001b[0;32m---> 83\u001b[0m \u001b[38;5;28mself\u001b[39m\u001b[38;5;241m.\u001b[39mh5 \u001b[38;5;241m=\u001b[39m \u001b[43mh5py\u001b[49m\u001b[38;5;241;43m.\u001b[39;49m\u001b[43mFile\u001b[49m\u001b[43m(\u001b[49m\u001b[43mGSM2016_FILEPATH\u001b[49m\u001b[43m,\u001b[49m\u001b[43m \u001b[49m\u001b[38;5;124;43m\"\u001b[39;49m\u001b[38;5;124;43mr\u001b[39;49m\u001b[38;5;124;43m\"\u001b[39;49m\u001b[43m)\u001b[49m\n\u001b[1;32m     84\u001b[0m \u001b[38;5;28mself\u001b[39m\u001b[38;5;241m.\u001b[39mfreq_unit \u001b[38;5;241m=\u001b[39m freq_unit\n\u001b[1;32m     85\u001b[0m \u001b[38;5;28mself\u001b[39m\u001b[38;5;241m.\u001b[39munit \u001b[38;5;241m=\u001b[39m unit\n",
      "File \u001b[0;32m~/anaconda3/envs/21cm/lib/python3.8/site-packages/h5py/_hl/files.py:533\u001b[0m, in \u001b[0;36mFile.__init__\u001b[0;34m(self, name, mode, driver, libver, userblock_size, swmr, rdcc_nslots, rdcc_nbytes, rdcc_w0, track_order, fs_strategy, fs_persist, fs_threshold, fs_page_size, page_buf_size, min_meta_keep, min_raw_keep, locking, alignment_threshold, alignment_interval, **kwds)\u001b[0m\n\u001b[1;32m    525\u001b[0m     fapl \u001b[38;5;241m=\u001b[39m make_fapl(driver, libver, rdcc_nslots, rdcc_nbytes, rdcc_w0,\n\u001b[1;32m    526\u001b[0m                      locking, page_buf_size, min_meta_keep, min_raw_keep,\n\u001b[1;32m    527\u001b[0m                      alignment_threshold\u001b[38;5;241m=\u001b[39malignment_threshold,\n\u001b[1;32m    528\u001b[0m                      alignment_interval\u001b[38;5;241m=\u001b[39malignment_interval,\n\u001b[1;32m    529\u001b[0m                      \u001b[38;5;241m*\u001b[39m\u001b[38;5;241m*\u001b[39mkwds)\n\u001b[1;32m    530\u001b[0m     fcpl \u001b[38;5;241m=\u001b[39m make_fcpl(track_order\u001b[38;5;241m=\u001b[39mtrack_order, fs_strategy\u001b[38;5;241m=\u001b[39mfs_strategy,\n\u001b[1;32m    531\u001b[0m                      fs_persist\u001b[38;5;241m=\u001b[39mfs_persist, fs_threshold\u001b[38;5;241m=\u001b[39mfs_threshold,\n\u001b[1;32m    532\u001b[0m                      fs_page_size\u001b[38;5;241m=\u001b[39mfs_page_size)\n\u001b[0;32m--> 533\u001b[0m     fid \u001b[38;5;241m=\u001b[39m \u001b[43mmake_fid\u001b[49m\u001b[43m(\u001b[49m\u001b[43mname\u001b[49m\u001b[43m,\u001b[49m\u001b[43m \u001b[49m\u001b[43mmode\u001b[49m\u001b[43m,\u001b[49m\u001b[43m \u001b[49m\u001b[43muserblock_size\u001b[49m\u001b[43m,\u001b[49m\u001b[43m \u001b[49m\u001b[43mfapl\u001b[49m\u001b[43m,\u001b[49m\u001b[43m \u001b[49m\u001b[43mfcpl\u001b[49m\u001b[43m,\u001b[49m\u001b[43m \u001b[49m\u001b[43mswmr\u001b[49m\u001b[38;5;241;43m=\u001b[39;49m\u001b[43mswmr\u001b[49m\u001b[43m)\u001b[49m\n\u001b[1;32m    535\u001b[0m \u001b[38;5;28;01mif\u001b[39;00m \u001b[38;5;28misinstance\u001b[39m(libver, \u001b[38;5;28mtuple\u001b[39m):\n\u001b[1;32m    536\u001b[0m     \u001b[38;5;28mself\u001b[39m\u001b[38;5;241m.\u001b[39m_libver \u001b[38;5;241m=\u001b[39m libver\n",
      "File \u001b[0;32m~/anaconda3/envs/21cm/lib/python3.8/site-packages/h5py/_hl/files.py:226\u001b[0m, in \u001b[0;36mmake_fid\u001b[0;34m(name, mode, userblock_size, fapl, fcpl, swmr)\u001b[0m\n\u001b[1;32m    224\u001b[0m     \u001b[38;5;28;01mif\u001b[39;00m swmr \u001b[38;5;129;01mand\u001b[39;00m swmr_support:\n\u001b[1;32m    225\u001b[0m         flags \u001b[38;5;241m|\u001b[39m\u001b[38;5;241m=\u001b[39m h5f\u001b[38;5;241m.\u001b[39mACC_SWMR_READ\n\u001b[0;32m--> 226\u001b[0m     fid \u001b[38;5;241m=\u001b[39m \u001b[43mh5f\u001b[49m\u001b[38;5;241;43m.\u001b[39;49m\u001b[43mopen\u001b[49m\u001b[43m(\u001b[49m\u001b[43mname\u001b[49m\u001b[43m,\u001b[49m\u001b[43m \u001b[49m\u001b[43mflags\u001b[49m\u001b[43m,\u001b[49m\u001b[43m \u001b[49m\u001b[43mfapl\u001b[49m\u001b[38;5;241;43m=\u001b[39;49m\u001b[43mfapl\u001b[49m\u001b[43m)\u001b[49m\n\u001b[1;32m    227\u001b[0m \u001b[38;5;28;01melif\u001b[39;00m mode \u001b[38;5;241m==\u001b[39m \u001b[38;5;124m'\u001b[39m\u001b[38;5;124mr+\u001b[39m\u001b[38;5;124m'\u001b[39m:\n\u001b[1;32m    228\u001b[0m     fid \u001b[38;5;241m=\u001b[39m h5f\u001b[38;5;241m.\u001b[39mopen(name, h5f\u001b[38;5;241m.\u001b[39mACC_RDWR, fapl\u001b[38;5;241m=\u001b[39mfapl)\n",
      "File \u001b[0;32mh5py/_objects.pyx:54\u001b[0m, in \u001b[0;36mh5py._objects.with_phil.wrapper\u001b[0;34m()\u001b[0m\n",
      "File \u001b[0;32mh5py/_objects.pyx:55\u001b[0m, in \u001b[0;36mh5py._objects.with_phil.wrapper\u001b[0;34m()\u001b[0m\n",
      "File \u001b[0;32mh5py/h5f.pyx:106\u001b[0m, in \u001b[0;36mh5py.h5f.open\u001b[0;34m()\u001b[0m\n",
      "\u001b[0;31mOSError\u001b[0m: Unable to open file (file signature not found)"
     ]
    }
   ],
   "source": [
    "gsm_2016 = GlobalSkyModel2016(freq_unit='MHz')\n",
    "gsm_2016.generate(500)\n",
    "gsm_2016.view(logged=True)\n",
    "\n",
    "# Compare to 2008 De-Olivera Costa version\n",
    "gsm_2008 = GlobalSkyModel(freq_unit='MHz')\n",
    "gsm_2008.generate(500)\n",
    "gsm_2008.view(logged=True)"
   ]
  },
  {
   "cell_type": "markdown",
   "id": "95187f6e",
   "metadata": {},
   "source": [
    "We might then want to write this to a FITS file (in healpix format):"
   ]
  },
  {
   "cell_type": "markdown",
   "id": "4092ac67",
   "metadata": {},
   "source": [
    "There are also a few options we can play around with. For example:\n",
    "\n",
    "let's change to use a different interpolation method (pchip)\n",
    "instead of using the Haslam 408 MHz map for structure, let's use WMAP 23 GHz\n",
    "instead of using MHz to define the units, let's use GHz"
   ]
  },
  {
   "cell_type": "code",
   "execution_count": null,
   "id": "3a33fa4d",
   "metadata": {},
   "outputs": [],
   "source": [
    "gsm = GlobalSkyModel2016(freq_unit='GHz', unit='MJysr', resolution='low')\n",
    "gsm.generate(30) # Generate at 30 GHz\n",
    "gsm.view(logged=False)"
   ]
  },
  {
   "cell_type": "markdown",
   "id": "4f3ccf95",
   "metadata": {},
   "source": [
    "You can set things on the fly, too, once you've got a gsm object:\n",
    "\n",
    "Just in case you're interested in spectral cubes, you can even pass a frequency range:"
   ]
  },
  {
   "cell_type": "code",
   "execution_count": null,
   "id": "bc931446",
   "metadata": {},
   "outputs": [],
   "source": [
    "gsm = GlobalSkyModel2016(freq_unit='GHz')\n",
    "freqs = np.linspace(0.1, 4, 10)\n",
    "map_cube = gsm.generate(freqs)\n",
    "\n",
    "print map_cube.shape\n",
    "plt.loglog(map_cube[:,100])  # Random pixel\n",
    "plt.loglog(map_cube[:,12345]) # Another random pixel\n",
    "plt.xlabel(\"Frequency [GHz]\")\n",
    "plt.ylabel(\"Temperature [K]\")"
   ]
  },
  {
   "cell_type": "markdown",
   "id": "f104c25d",
   "metadata": {},
   "source": [
    "Be careful with this one though, as it can eat up a lot of memory!\n",
    "\n",
    "Generate observed sky for a given lat, long\n",
    "A common task is to find out what the sky looks like at a given lat, long and date. PyGSM gives a quick method to do this:"
   ]
  },
  {
   "cell_type": "code",
   "execution_count": null,
   "id": "edcafc4c",
   "metadata": {},
   "outputs": [],
   "source": [
    "from pygsm import GSMObserver2016, GSMObserver\n",
    "from datetime import datetime\n",
    "\n",
    "# Setup observatory location - in this case, Parkes Australia\n",
    "(latitude, longitude, elevation) = ('-35.4667', '-69.3068', 1400)\n",
    "ov = GSMObserver2016()\n",
    "ov.lon = longitude\n",
    "ov.lat = latitude\n",
    "ov.elev = elevation\n",
    "ov.date = datetime(2000, 1, 1, 23, 0)"
   ]
  },
  {
   "cell_type": "markdown",
   "id": "5274382b",
   "metadata": {},
   "source": [
    "And we can view galactic Mollweide projection too, with below-horizon data blanked out:"
   ]
  },
  {
   "cell_type": "code",
   "execution_count": null,
   "id": "01db709e",
   "metadata": {},
   "outputs": [],
   "source": [
    "d = ov.view_observed_gsm()"
   ]
  }
 ],
 "metadata": {
  "kernelspec": {
   "display_name": "Python 3 (ipykernel)",
   "language": "python",
   "name": "python3"
  },
  "language_info": {
   "codemirror_mode": {
    "name": "ipython",
    "version": 3
   },
   "file_extension": ".py",
   "mimetype": "text/x-python",
   "name": "python",
   "nbconvert_exporter": "python",
   "pygments_lexer": "ipython3",
   "version": "3.8.13"
  }
 },
 "nbformat": 4,
 "nbformat_minor": 5
}
