{
 "cells": [
  {
   "cell_type": "code",
   "execution_count": 116,
   "id": "d6f9023c",
   "metadata": {},
   "outputs": [],
   "source": [
    "# --------------------------------------------       Pathfinder MIA       -----------------------------------------"
   ]
  },
  {
   "cell_type": "code",
   "execution_count": 235,
   "id": "4efdfacc",
   "metadata": {},
   "outputs": [],
   "source": [
    "# Timpo de integración para Pathfinder MIA \n",
    "\n",
    "# 1 - SEFD y DPFU\n",
    "# 2 - Relación SNR y S-min: simulación\n",
    "# 3 - Resolución del interferometro\n",
    "# 4 - Fuente de observacion: Densidad de flujo de la fuente y temperatura de brillo\n",
    "# 5 - Tiempo de integración\n",
    "# 6 - tiempo de integracion usando el foreground (aproximacion)"
   ]
  },
  {
   "cell_type": "code",
   "execution_count": 236,
   "id": "3b1ccad5",
   "metadata": {},
   "outputs": [],
   "source": [
    "import numpy as np\n",
    "import matplotlib.pyplot as plt\n",
    "import scipy as scy"
   ]
  },
  {
   "cell_type": "code",
   "execution_count": 237,
   "id": "f1f2e194",
   "metadata": {},
   "outputs": [
    {
     "name": "stdout",
     "output_type": "stream",
     "text": [
      "1.380649e-23 j/k\n"
     ]
    }
   ],
   "source": [
    "#  Constante de Boltzmann\n",
    "#  Valores de k   \tUnidades\n",
    "#  1.380 649 × 10 −23\tJ/K\n",
    "#  8,617 333 262 145 × 10 −5\teV/K\n",
    "#  1.380 649 × 10 −16\tergio/ K \n",
    "\n",
    "\n",
    "from scipy.constants import Boltzmann\n",
    "print(Boltzmann,'j/k')"
   ]
  },
  {
   "cell_type": "code",
   "execution_count": 238,
   "id": "72291d79",
   "metadata": {},
   "outputs": [],
   "source": [
    "# .................................................   1    SEFD     ................................................"
   ]
  },
  {
   "cell_type": "code",
   "execution_count": 239,
   "id": "377be488",
   "metadata": {},
   "outputs": [],
   "source": [
    "# Temperatura del sistema en grados Kelvin, antena MIA \n",
    "\n",
    "Tsys= 75 # Temperatura del sistema en grados Kelvin"
   ]
  },
  {
   "cell_type": "code",
   "execution_count": 240,
   "id": "47c77322",
   "metadata": {},
   "outputs": [
    {
     "name": "stdout",
     "output_type": "stream",
     "text": [
      "13.744467859455344 m2\n"
     ]
    }
   ],
   "source": [
    "# Area efectiva\n",
    "from scipy.constants import pi\n",
    "\n",
    "η = 0.7           # eficiencia de apertura \n",
    "D = 5             # diametro geometrico de una antena en metros (m)\n",
    "Ag= pi*((D)**2)/4   # area gemetrica de una antena en metros cuadrados \n",
    "A = η*Ag          # Area efectiva en metros cuadrados \n",
    "print (A,'m2')"
   ]
  },
  {
   "cell_type": "code",
   "execution_count": 241,
   "id": "7b5edf72",
   "metadata": {},
   "outputs": [
    {
     "name": "stdout",
     "output_type": "stream",
     "text": [
      "1506.7687750277637 jy\n"
     ]
    }
   ],
   "source": [
    "#   System equivalent flux density (Jy) -  sencibilidad del sistema\n",
    "\n",
    "# Algunos ejemplos para tener en cuenta :\n",
    "#  --------------------------------------------------------------------------------------------------------------------------------------------------------\n",
    "#- SEFD is the system equivalent flux density (Jy), defined as the flux density of a radio source that doubles the system temperature. \n",
    "#- Lower values of the SEFD indicate more sensitive performance. For the VLA's 25–meter paraboloids, the SEFD is given by the equation SEFD = 5.62Tsys/ηA, \n",
    "#- where Tsys is the total system temperature (receiver plus antenna plus sky), and ηA is the antenna aperture efficiency in the given band.\n",
    "\n",
    "# for a 6-metre ATA telescope is ~ 6000 Jy. At the other end of the scale, the Arecibo telescope has an SEFD of 3Jy\n",
    "# ---------------------------------------------------------------------------------------------------------------------------------------------------------\n",
    "\n",
    "#   SEFD  para MIA, en unidades jy , conversion a  10e-26 W/m2/Hz \n",
    "#   OBSERVACION :  usamos 10 e- o  1e-\n",
    "#   nJy = 10-9 Jy\n",
    "#   μJy = 10-6 Jy\n",
    "#   mJy = 10-3 Jy\n",
    "#   kJy = 103 Jy\n",
    "\n",
    "# 1 Jy en ...\t... es igual a ...\n",
    "#   SI units\t   10−26 W⋅m−2⋅Hz−1\n",
    "#   CGS units\t   10−23 erg⋅s−1⋅cm−2⋅Hz−1\n",
    "\n",
    "\n",
    "SEFD= ( (2*(Boltzmann)*Tsys)/ A )/ (10e-26 )  \n",
    "\n",
    "print(SEFD, 'jy') "
   ]
  },
  {
   "cell_type": "code",
   "execution_count": 242,
   "id": "cef7b110",
   "metadata": {},
   "outputs": [
    {
     "name": "stdout",
     "output_type": "stream",
     "text": [
      "9.488142902844581e-23\n"
     ]
    }
   ],
   "source": [
    "# Degree per Flux Unit  DPFU \n",
    "# Que indica la respuesta en términos de la temperatura de la antena en Kelvins\n",
    "\n",
    "# Un área efectiva más grande del radio telescopio le permite recolectar más radiación de la\n",
    "# fuente y por lo tanto produce una mayor respuesta del radio telescopio, que aparece como una mayor\n",
    "# temperatura de la antena Una  ganancia grande significa que incluso una fuente débil con una pequeña densidad de flujo\n",
    "# producirá una temperatura de antena medible.\n",
    "\n",
    "\n",
    "DPFU= A/2*(Boltzmann)\n",
    "print(DPFU)"
   ]
  },
  {
   "cell_type": "code",
   "execution_count": 243,
   "id": "b6a04ac5",
   "metadata": {},
   "outputs": [],
   "source": [
    "# --------------------------------------------  2   SNR y S-min   ----------------------------------------------------"
   ]
  },
  {
   "cell_type": "code",
   "execution_count": 252,
   "id": "3b9cd91b",
   "metadata": {},
   "outputs": [],
   "source": [
    "#                         Simulación para obtener el minimo de densidad de flujo detectable\n",
    "\n",
    "# parametros a utilizar\n",
    "\n",
    "SNR = 3               # señal - ruido\n",
    "T=  3600              # tiempo de integracion en segundos\n",
    "#v=                    # frecuencia de observacion\n",
    "Δv= 1000000         # Ancho de banda [Hz]"
   ]
  },
  {
   "cell_type": "code",
   "execution_count": 332,
   "id": "5a05cfa7",
   "metadata": {},
   "outputs": [
    {
     "name": "stdout",
     "output_type": "stream",
     "text": [
      "120.0\n"
     ]
    }
   ],
   "source": [
    "# Número de pares de antenas, podemos usar de 3 - 16\n",
    "N=16\n",
    "P= N*(N-1)/2\n",
    "print(P)"
   ]
  },
  {
   "cell_type": "code",
   "execution_count": 333,
   "id": "2ffc677e",
   "metadata": {},
   "outputs": [
    {
     "name": "stdout",
     "output_type": "stream",
     "text": [
      "4.863075310223233e-28 W/m2/Hz\n",
      "0.004863075310223232 Jy\n",
      "0.004863075310223232 Jy\n"
     ]
    }
   ],
   "source": [
    "# flujo S-rms,   el minimo detectable  de densidad de flujo - o sea, nivel de ruido rms\n",
    "# conciderando la temperatura del sistema, el tiempo de int, el ancho de banda\n",
    "\n",
    "# Densidad de flujo rms ..............................................................................\n",
    "\n",
    "\n",
    "ΔS= ((2*(Boltzmann)*Tsys)/(A*(2*P*T*Δv)**(1/2)))*(SNR)                   # unidades [W/m2/Hz]\n",
    "print(ΔS,'W/m2/Hz')\n",
    "\n",
    "ΔSj= ((2*(Boltzmann)*Tsys)/(A*(2*P*T*Δv)**(1/2)))*(SNR)/(10e-26 )        # unidades [Jy]\n",
    "print (ΔSj,'Jy')\n",
    "\n",
    "\n",
    "# usando SEDF .........................................................................................\n",
    "\n",
    "Δs= (SEFD/ (N*(N-1)*T*Δv)**(1/2))*(SNR)\n",
    "print(Δs,'Jy')\n"
   ]
  },
  {
   "cell_type": "code",
   "execution_count": 334,
   "id": "a7c11335",
   "metadata": {},
   "outputs": [],
   "source": [
    "# tiempo de integracion  utilizando el MINIMO detectable ΔS"
   ]
  },
  {
   "cell_type": "code",
   "execution_count": 335,
   "id": "b2722548",
   "metadata": {},
   "outputs": [
    {
     "name": "stdout",
     "output_type": "stream",
     "text": [
      "3600.0000000000005 s\n"
     ]
    }
   ],
   "source": [
    "# este es el tiempo de integracion  utilizando una SNR, ΔS y el número de antenas que se uso anteriormente.\n",
    "\n",
    "t = ((2*(Boltzmann)*Tsys*(SNR)/(A*ΔS) )**(2))/ (N*(N-1)*Δv)\n",
    "print(t,'s')"
   ]
  },
  {
   "cell_type": "code",
   "execution_count": 336,
   "id": "55c084a0",
   "metadata": {},
   "outputs": [],
   "source": [
    "# ----------------------------------------  3   Resolución del interferometro MIA    -----------------------------------------"
   ]
  },
  {
   "cell_type": "code",
   "execution_count": 6,
   "id": "85c2521f",
   "metadata": {},
   "outputs": [
    {
     "name": "stdout",
     "output_type": "stream",
     "text": [
      "299792458.0 m/s = velocidad de la luz \n",
      "2  = z\n",
      "0.63 m = longitud de onda observada\n",
      "1427583133.3333335 Hz = frecuencia de emision \n",
      "475861044.4444445 Hz = frecuencia de observacion\n",
      "473.3333333333333 MHz\n",
      "473333333.3333333 Hz\n"
     ]
    }
   ],
   "source": [
    "# ----------------------------------------   Redshift y  longitud de onda observada    -------------------------------------\n",
    "\n",
    "# constante de velocidad de la luz \n",
    "\n",
    "from scipy.constants import speed_of_light\n",
    "print(speed_of_light,'m/s = velocidad de la luz ')\n",
    "\n",
    "\n",
    "#  REDSHIFT --------------------------------------------------------------------------------------------\n",
    "\n",
    "z = 2                # Redshift\n",
    "print(z,' = z')\n",
    "\n",
    "\n",
    "# longitud de onda observada ---------------------------------------------------------------------------\n",
    "\n",
    "Le = 0.21              # longitud de onda emitida  [m]\n",
    "\n",
    "Lo = ( 1 + z )*Le      # Longitud de onda observada [m]\n",
    "print (Lo,'m = longitud de onda observada')\n",
    "\n",
    "\n",
    "#frecuencia de emision  --------------------------------------------------------------------------------\n",
    "\n",
    "Ve = (speed_of_light)/Le   # frecuencia de emision \n",
    "print(Ve,'Hz = frecuencia de emision ')\n",
    "\n",
    "#frecuencia de observación  ----------------------------------------------------------------------------\n",
    "\n",
    "Vo = Ve/(1+z)\n",
    "print(Vo,'Hz = frecuencia de observacion')\n",
    "\n",
    "\n",
    "#frecuencia de observación HI ----------------------------------------------------------------------------\n",
    " \n",
    "V = 1420 /(1+z)    # Frec de observacion en [MHz]\n",
    "print(V,'MHz')\n",
    "\n",
    "Vhz = V*1000000 \n",
    "print(Vhz,'Hz')\n",
    "\n"
   ]
  },
  {
   "cell_type": "code",
   "execution_count": 338,
   "id": "6882bb9e",
   "metadata": {},
   "outputs": [
    {
     "name": "stdout",
     "output_type": "stream",
     "text": [
      "7.686e-05 rad   = Θ maximo\n",
      "15.853527900000001 arcoseg =  Θ maximo \n",
      "0.003843 rad =  Θ minimo \n",
      "792.676395 arcoseg = =  Θ minimo\n",
      "6.3e-05 rad\n",
      "0.00315 rad\n"
     ]
    }
   ],
   "source": [
    "# -------------------------------------- Resolucion conforme la linea de base ---------------------------------------\n",
    "\n",
    "# Entonces tenemos  para  theta_max < theta < theta_min.\n",
    "\n",
    "# Sean las lineas de base siguientes:\n",
    "\n",
    "bmax = 50000    # baseline  max en metros [m]\n",
    "bmin = 1000       # baseline  min  no sabemos cuanto es la minima distancia entre las antenas, pero supongamos que es x [m]\n",
    "\n",
    "\n",
    "\n",
    "# RESOLUCION --------------------------------------------------------------------------------------------\n",
    "\n",
    "# Resolucion utilizando la MAXIMA distacia de linea de base .............................................\n",
    "\n",
    "theta_max = 1.22* Lo/bmax                        # en radianes\n",
    "print(theta_max,'rad   = Θ maximo')\n",
    "\n",
    "\n",
    "theta_max_arc = (1.22* Lo/bmax)*206265           # en arcoseg\n",
    "\n",
    "print(theta_max_arc,'arcoseg =  Θ maximo ')\n",
    "\n",
    "\n",
    "# Resolucion utilizando la MINIMA  distacia de linea de base ............................................\n",
    "\n",
    "theta_min = 1.22* Lo/bmin                        # en radianes\n",
    "print(theta_min,'rad =  Θ minimo ')\n",
    "\n",
    "\n",
    "theta_max_arc = (1.22* Lo/bmin)*206265           # en arcoseg\n",
    "\n",
    "print(theta_max_arc,'arcoseg = =  Θ minimo')\n",
    "\n",
    "\n",
    "\n",
    "# entonces    theta_max < theta < theta_min. -------------------------------------------------------------\n",
    "# aproximadamente podemos decir  Θ-maximo < Θ < Θ minimo\n",
    "\n",
    "theta_max_b= Lo/bmax\n",
    "print(theta_max_b,'rad') \n",
    "#print ( theta_max*206264.8062471,'arcseg' )\n",
    "\n",
    "theta_min_b = Lo /bmin\n",
    "print(theta_min_b,'rad')\n",
    "#print ( theta_min*206264.8062471,'arcseg' )\n"
   ]
  },
  {
   "cell_type": "code",
   "execution_count": 339,
   "id": "88bd6a36",
   "metadata": {},
   "outputs": [],
   "source": [
    "# -----------------------------------      4    FUENTE DE OBSERVACION            ----------------------------------------\n",
    "\n",
    "#  Consideramos dos cituaciones:\n",
    "#        i)   para medicion de linea 21-cm\n",
    "#        ii)  para una fuente cualquiera"
   ]
  },
  {
   "cell_type": "code",
   "execution_count": 340,
   "id": "86690b4a",
   "metadata": {},
   "outputs": [
    {
     "name": "stdout",
     "output_type": "stream",
     "text": [
      "6.62607015e-34 js\n"
     ]
    }
   ],
   "source": [
    "# constante de planck\n",
    "\n",
    "from scipy.constants import h\n",
    "print(h,'js')"
   ]
  },
  {
   "cell_type": "code",
   "execution_count": 341,
   "id": "e6abc277",
   "metadata": {
    "scrolled": true
   },
   "outputs": [
    {
     "name": "stdout",
     "output_type": "stream",
     "text": [
      "14 = z\n",
      "40.89 K\n"
     ]
    }
   ],
   "source": [
    "# Temperatura - CMB\n",
    "\n",
    "To = 2.726  # en grados K\n",
    "\n",
    "Tcmb = (1+z)*To\n",
    "print(z,'= z')\n",
    "print(Tcmb,'K')"
   ]
  },
  {
   "cell_type": "code",
   "execution_count": 342,
   "id": "8f27b00b",
   "metadata": {},
   "outputs": [
    {
     "name": "stdout",
     "output_type": "stream",
     "text": [
      "14  = z\n",
      "40.549450549450555 K\n"
     ]
    }
   ],
   "source": [
    "# Temperatura de spin Ts (Teorica)- una temperatura aproximada que esperariamos observar, acordarse que la temperatura de spin, Ts, es una contribucion de varios factores.\n",
    "\n",
    "Tk = 300  # en grados K\n",
    "Yc= 0.001 # Estos valores varian dependeiendo de la densidad,  \n",
    "          # ver paper : Shapiro - THE 21 cm BACKGROUND FROM THE COSMIC DARK AGES: MINIHALOS AND THE INTERGALACTIC MEDIUM BEFORE REIONIZATION  \n",
    "          # y el paper: GEORGE B. FIELD - Excitation of the Hydrogen 21-CM Line\n",
    "\n",
    "# entonces una APROXIMACION  teorica:\n",
    "print(z,' = z')\n",
    "Ts_t = ( Tcmb - Yc*Tk )/ (1+Yc)\n",
    "print(Ts_t,'K')"
   ]
  },
  {
   "cell_type": "code",
   "execution_count": 343,
   "id": "55e2427f",
   "metadata": {},
   "outputs": [
    {
     "name": "stdout",
     "output_type": "stream",
     "text": [
      "14 = z\n",
      "0.020445600500164213 K = ΔTb\n"
     ]
    }
   ],
   "source": [
    "# Temeratura de brillo diferencial ( differential brightness temperature  - DBT )\n",
    "\n",
    "#     Aproximadamente la temperatura de brillo de los atomos de HI, utilizando la Tcmb\n",
    "#     y usando que : \n",
    "#     Ωmh**2 = 0.134 ± 0.006\n",
    "#     Ωbh**2 = 0.023 ± 0.001\n",
    "\n",
    "#     EL max {ΔTb = 0.022K} apriximadamente\n",
    "#  Como referencia podeos tomar  Ts = 30   para delta = 0 y z=15\n",
    "\n",
    "\n",
    "Ts=30      # esta temperatura de spin la ajusto tal que no supere el maximo, lo cual concuerda con los graficos asociados a DBT\n",
    "\n",
    "\n",
    "ΔTb = 0.025 + 0.025*((0.023)/0.023)*(0.15/(0.134)**(1/2))* (((1+z) /10)**(1/2))*( 1 - Tcmb/Ts)\n",
    "\n",
    "\n",
    "print(z,'= z')\n",
    "print (ΔTb,'K = ΔTb')\n"
   ]
  },
  {
   "cell_type": "code",
   "execution_count": 344,
   "id": "bf8dc2e6",
   "metadata": {},
   "outputs": [
    {
     "name": "stdout",
     "output_type": "stream",
     "text": [
      "14 = z\n",
      "41.19668400750246 K = Tb\n"
     ]
    }
   ],
   "source": [
    "#   Ahora como  ΔTb(z) = (Tb(z) - Tcmb(z)) / (1 + z)\n",
    "#   donde:\n",
    "#         Tb(z) = es la temperatura de spin, o sea la temperatura de mi fuente\n",
    "#         Tcmb(z) es la temperatura del CMB\n",
    "#         z =  redshift que se definio anteriormente\n",
    "#\n",
    "#         Entonces despejando Tb(z) de la ecuacion anterior, tenemos Tb(z) = (1 + z)ΔTb(z) + Tcmb(z)\n",
    "\n",
    "Tb = (1 + z)*(ΔTb) + Tcmb  # temperatura de spin en K\n",
    "\n",
    "\n",
    "print(z,'= z')\n",
    "print(Tb,'K = Tb')"
   ]
  },
  {
   "cell_type": "code",
   "execution_count": 345,
   "id": "549603be",
   "metadata": {},
   "outputs": [
    {
     "name": "stdout",
     "output_type": "stream",
     "text": [
      "7.477129338174539e-31 W/m2/Hz\n",
      "7.477129338174539e-05 jy =    baseline maxima\n",
      "1.8692823345436342e-27 W/m2/Hz\n",
      "0.1869282334543634 jy =    baseline minima\n"
     ]
    }
   ],
   "source": [
    "# Ahora:\n",
    "\n",
    "# -------------------------------- Densidad de flujo Sv aspciado a la fuente puntual  ----------------------------------\n",
    "\n",
    "\n",
    "#  densidad de flujo de la fuente, pero tenemos que conocer la temperatura de brillo Tb y las distancias de las lineas de base\n",
    "\n",
    "# utilizando la maxima linea de base   ------------------------------------------------------------\n",
    "\n",
    "# Sv_maxj =(((2*(Boltzmann)*Tobj*(Vf)**2 )*(1.33*(theta_max)**2 ))/(speed_of_light)**2 )/(1e-26 )\n",
    "\n",
    "# print(Sv_maxj,'jy maxima linea de base')\n",
    "# pero lo  desarrollo termino por termino\n",
    "\n",
    "\n",
    "\n",
    "\n",
    "# utilizando la MAXIMA linea de base   ------------------------------------------------------------\n",
    "\n",
    "Vf= 100000000  # frecuencia de observacion\n",
    "\n",
    "\n",
    "Termino_1=(2*Boltzmann)*Tb*(Vf)**2\n",
    "#print(Termino_1)  \n",
    "\n",
    "Termino_2=(theta_max)**2\n",
    "#print(Termino_2) \n",
    "\n",
    "Termino_3 = (speed_of_light)**2\n",
    "#print(Termino_3) \n",
    "\n",
    "Sv_max = (Termino_1*Termino_2)/Termino_3\n",
    "print(Sv_max,'W/m2/Hz')\n",
    "print(Sv_max/1e-26,'jy =    baseline maxima')\n",
    "\n",
    "\n",
    "# utilizando la MINIMA  linea de base---------------------------- -----------------------------------\n",
    "\n",
    "Termino_1=(2*Boltzmann)*Tb*(Vf)**2\n",
    "#print(Termino_1)  \n",
    "\n",
    "Termino_2=(theta_min)**2\n",
    "#print(Termino_2) \n",
    "\n",
    "Termino_3 = (speed_of_light)**2\n",
    "#print(Termino_3) \n",
    "\n",
    "Sv_min = (Termino_1*Termino_2)/Termino_3\n",
    "print(Sv_min,'W/m2/Hz')\n",
    "print(Sv_min/1e-26,'jy =    baseline minima')\n"
   ]
  },
  {
   "cell_type": "code",
   "execution_count": 346,
   "id": "0b03ef20",
   "metadata": {},
   "outputs": [
    {
     "name": "stdout",
     "output_type": "stream",
     "text": [
      "3.361187915771302e-34 W/m2/Hz\n",
      "3.361187915771302e-08 jy =    baseline maxima\n",
      "8.402969789428253e-31 W/m2/Hz\n",
      "8.402969789428253e-05 jy =    baseline minima\n"
     ]
    }
   ],
   "source": [
    "#----------------------------------------Flujo utilizando la temperatura diferencial ΔTb\n",
    "\n",
    "\n",
    "# utilizando la MAXIMA linea de base   ------------------------------------------------------------\n",
    "\n",
    "\n",
    "\n",
    "Vf= 95172208  # frecuencia de observacion\n",
    "\n",
    "\n",
    "Termino_1=(2*Boltzmann)*ΔTb*(Vf)**2\n",
    "#print(Termino_1)  \n",
    "\n",
    "Termino_2=(theta_max)**2\n",
    "#print(Termino_2) \n",
    "\n",
    "Termino_3 = (speed_of_light)**2\n",
    "#print(Termino_3) \n",
    "\n",
    "Sv_max_Δ = (Termino_1*Termino_2)/Termino_3\n",
    "print(Sv_max_Δ,'W/m2/Hz')\n",
    "print(Sv_max_Δ/1e-26,'jy =    baseline maxima')\n",
    "\n",
    "\n",
    "# utilizando la MINIMA  linea de base---------------------------- -----------------------------------\n",
    "\n",
    "Termino_1=(2*Boltzmann)*ΔTb*(Vf)**2\n",
    "#print(Termino_1)  \n",
    "\n",
    "Termino_2=(theta_min)**2\n",
    "#print(Termino_2) \n",
    "\n",
    "Termino_3 = (speed_of_light)**2\n",
    "#print(Termino_3) \n",
    "\n",
    "Sv_min_Δ = (Termino_1*Termino_2)/Termino_3\n",
    "print(Sv_min_Δ,'W/m2/Hz')\n",
    "print(Sv_min_Δ/1e-26,'jy =    baseline minima')"
   ]
  },
  {
   "cell_type": "code",
   "execution_count": 347,
   "id": "300a8afb",
   "metadata": {},
   "outputs": [],
   "source": [
    "# .......................................   Calculo del tiempo de integración   ................................"
   ]
  },
  {
   "cell_type": "code",
   "execution_count": 348,
   "id": "42976649",
   "metadata": {},
   "outputs": [],
   "source": [
    "# tiempo de integracion\n",
    "\n",
    "# parametros \n",
    "# Se considera el mejor flujo detectable, de acuerdo a la configuracion del Array\n",
    "# usar la densidad de flujo calculada anteriormente, elegir entre baseline max o min\n",
    "\n",
    "   \n",
    "ΔV= 20000000   # ancho de banda en [Hz]"
   ]
  },
  {
   "cell_type": "code",
   "execution_count": 349,
   "id": "23f34828",
   "metadata": {},
   "outputs": [
    {
     "name": "stdout",
     "output_type": "stream",
     "text": [
      "76142075.24456207 s  ------------------------------ MAXIMA linea de base\n",
      "1269034.5874093678 min\n",
      "21150.576456822797 hs\n",
      "881.2740190342831 dias\n",
      "29.375800634476104 meses\n",
      "12.18273203912994 s  -------------------------------MINIMA linea de base \n",
      "0.203045533985499 min\n",
      "0.0033840922330916497 hs\n",
      "0.0001410038430454854 dias\n",
      "4.70012810151618e-06 meses\n"
     ]
    }
   ],
   "source": [
    "# tiempo de integracion  utilizando Tb # temperatura de brillo de spin ---------            Tb\n",
    "\n",
    "# -------------  usando linea de base MAXIMA \n",
    "\n",
    "tin = ((2*(Boltzmann)*Tsys*(SNR)/(A*Sv_max) )**(2))/ (N*(N-1)*ΔV)\n",
    "print(tin,'s  ------------------------------ MAXIMA linea de base')\n",
    "\n",
    "\n",
    "print( tin*(1/60),'min')\n",
    "print( tin*(1/60)*(1/60),'hs')\n",
    "print( tin*(1/60)*(1/60)*(1/24),'dias')\n",
    "print( tin*(1/60)*(1/60)*(1/24)*(1/30),'meses')\n",
    "\n",
    "\n",
    "\n",
    "# ------------ Usando linea de base MINIMA \n",
    "\n",
    "tin = ((2*(Boltzmann)*Tsys*(SNR)/(A*Sv_min) )**(2))/ (N*(N-1)*ΔV)\n",
    "print(tin,'s  -------------------------------MINIMA linea de base ')\n",
    "\n",
    "\n",
    "print( tin*(1/60),'min')\n",
    "print( tin*(1/60)*(1/60),'hs')\n",
    "print( tin*(1/60)*(1/60)*(1/24),'dias')\n",
    "print( tin*(1/60)*(1/60)*(1/24)*(1/30),'meses')\n",
    "\n",
    "\n",
    "\n"
   ]
  },
  {
   "cell_type": "code",
   "execution_count": 350,
   "id": "dc1c17d2",
   "metadata": {
    "scrolled": true
   },
   "outputs": [
    {
     "name": "stdout",
     "output_type": "stream",
     "text": [
      "376798277209622.1 s  ------------------------------ MAXIMA linea de base\n",
      "6279971286827.035 min\n",
      "104666188113.78392 hs\n",
      "4361091171.407663 dias\n",
      "145369705.71358877 meses\n",
      "60287724.35353957 s  -------------------------------MINIMA linea de base \n",
      "1004795.4058923261 min\n",
      "16746.590098205437 hs\n",
      "697.7745874252265 dias\n",
      "23.259152914174216 meses\n"
     ]
    }
   ],
   "source": [
    "# tiempo de integracion  utilizando Tb # temperatura diferencial ΔTb ------------------  \n",
    "\n",
    "# -------------  usando linea de base MAXIMA \n",
    "\n",
    "tin_Δ = ((2*(Boltzmann)*Tsys*(SNR)/(A*Sv_max_Δ) )**(2))/ (N*(N-1)*ΔV)\n",
    "print(tin_Δ,'s  ------------------------------ MAXIMA linea de base')\n",
    "\n",
    "\n",
    "print( tin_Δ*(1/60),'min')\n",
    "print( tin_Δ*(1/60)*(1/60),'hs')\n",
    "print( tin_Δ*(1/60)*(1/60)*(1/24),'dias')\n",
    "print( tin_Δ*(1/60)*(1/60)*(1/24)*(1/30),'meses')\n",
    "\n",
    "\n",
    "\n",
    "# ------------ Usando linea de base MINIMA \n",
    "\n",
    "tin_Δ = ((2*(Boltzmann)*Tsys*(SNR)/(A*Sv_min_Δ) )**(2))/ (N*(N-1)*ΔV)\n",
    "print(tin_Δ,'s  -------------------------------MINIMA linea de base ')\n",
    "\n",
    "\n",
    "print( tin_Δ*(1/60),'min')\n",
    "print( tin_Δ*(1/60)*(1/60),'hs')\n",
    "print( tin_Δ*(1/60)*(1/60)*(1/24),'dias')\n",
    "print( tin_Δ*(1/60)*(1/60)*(1/24)*(1/30),'meses')\n"
   ]
  },
  {
   "cell_type": "code",
   "execution_count": 351,
   "id": "3bdffc60",
   "metadata": {},
   "outputs": [],
   "source": [
    "#/////////////////////////////////////////////////////////////////////////////////////////////////////////////////////////////"
   ]
  },
  {
   "cell_type": "code",
   "execution_count": 147,
   "id": "c54e4842",
   "metadata": {},
   "outputs": [],
   "source": [
    "# ----------------------------------------6  tiempo de integracion usando el foreground -----------------------------------"
   ]
  },
  {
   "cell_type": "code",
   "execution_count": 148,
   "id": "cd091533",
   "metadata": {},
   "outputs": [
    {
     "name": "stdout",
     "output_type": "stream",
     "text": [
      "1345 K   para z=17\n"
     ]
    }
   ],
   "source": [
    "#  APROXIMACION considerando la contribucion del foreground \n",
    "# Si utilizaramos las contribuciones del foreground, las distintas temperaturas de brillo se suman, incrementando la Tb que queremos observar\n",
    "\n",
    "#  Si consideramos un redshif z = 17\n",
    "\n",
    "#  si utilizaramos las contribuciones del foreground, las distintas temperaturas de brillo se suman, incrementando la Tb que queremos observar\n",
    "\n",
    "# Si consideramos un redshif z = 17\n",
    "\n",
    "# contribucion del plano de la galaxia  \n",
    "Tb_gal = 1000 # en grados K\n",
    "\n",
    "# fuente extragalactica   \n",
    "Tb_ext = 300  # en grados K\n",
    "\n",
    "# accidentalmente concideramos la luna   \n",
    "Tb_l = 10     # en grados K\n",
    "\n",
    "# temeratura fe la fuente de interes \n",
    "Tb_obs = 35   # en grados k \n",
    "\n",
    "\n",
    "\n",
    "T_total = Tb_gal + Tb_ext + Tb_l + Tb_obs\n",
    "print (T_total,'K   para z=17')\n",
    "\n"
   ]
  },
  {
   "cell_type": "code",
   "execution_count": 149,
   "id": "4bca38cf",
   "metadata": {},
   "outputs": [
    {
     "name": "stdout",
     "output_type": "stream",
     "text": [
      "2.4411525349985178e-33 W/m2/Hz\n",
      "2.4411525349985175e-07 jy =    baseline maxima\n",
      "3.8143008359351825e-27 W/m2/Hz\n",
      "0.38143008359351827 jy =    baseline minima\n"
     ]
    }
   ],
   "source": [
    "# densidad de flujo Sv de la fuente, observada considerando las lineas de base. Max y min\n",
    "\n",
    "\n",
    "# DATOS \n",
    "\n",
    "T_fore = 1345  # en grados K     esto es una aproximacion\n",
    "\n",
    "Vf=1000000   # frecuencia de observacion Hz\n",
    "\n",
    "\n",
    "\n",
    "# utilizando la MAXIMA linea de base   ------------------------------------------------------------\n",
    "\n",
    "\n",
    "Termino_1=(2*Boltzmann)*T_fore*(Vf)**2\n",
    "#print(Termino_1)  \n",
    "\n",
    "Termino_2=(theta_max)**2\n",
    "#print(Termino_2) \n",
    "\n",
    "Termino_3 = (speed_of_light)**2\n",
    "#print(Termino_3) \n",
    "\n",
    "Sv_max_fore = (Termino_1*Termino_2)/Termino_3\n",
    "print(Sv_max_fore,'W/m2/Hz')\n",
    "print(Sv_max_fore/1e-26,'jy =    baseline maxima')\n",
    "\n",
    "\n",
    "# utilizando la MINIMA  linea de base---------------------------- -----------------------------------\n",
    "\n",
    "Termino_1=(2*Boltzmann)*T_fore*(Vf)**2\n",
    "#print(Termino_1)  \n",
    "\n",
    "Termino_2=(theta_min)**2\n",
    "#print(Termino_2) \n",
    "\n",
    "Termino_3 = (speed_of_light)**2\n",
    "#print(Termino_3) \n",
    "\n",
    "Sv_min_fore = (Termino_1*Termino_2)/Termino_3\n",
    "print(Sv_min_fore,'W/m2/Hz')\n",
    "print(Sv_min_fore/1e-26,'jy =    baseline minima')\n"
   ]
  },
  {
   "cell_type": "code",
   "execution_count": 150,
   "id": "c344e631",
   "metadata": {},
   "outputs": [],
   "source": [
    " # ------------------------------------------- considerando el FOREGROUND "
   ]
  },
  {
   "cell_type": "code",
   "execution_count": 151,
   "id": "1cb58ca9",
   "metadata": {},
   "outputs": [],
   "source": [
    "# tiempo de integracion\n",
    "\n",
    "# parametros \n",
    "# Se considera el mejor flujo detectable, de acuerdo a la configuracion del Array\n",
    "# usar la densidad de flujo calculada anteriormente, elegir entre baseline max o min\n",
    "\n",
    "   \n",
    "ΔV= 1000000   # ancho de banda en [Hz]"
   ]
  },
  {
   "cell_type": "code",
   "execution_count": 152,
   "id": "ccff372d",
   "metadata": {},
   "outputs": [
    {
     "name": "stdout",
     "output_type": "stream",
     "text": [
      "142867898617909.38 s  ------------------------------ MAXIMA linea de base\n",
      "2381131643631.8228 min\n",
      "39685527393.86371 hs\n",
      "1653563641.4109879 dias\n",
      "55118788.04703293 meses\n",
      "58.51869127389572 s  -------------------------------MINIMA linea de base \n",
      "0.9753115212315953 min\n",
      "0.01625519202052659 hs\n",
      "0.0006772996675219412 dias\n",
      "2.2576655584064705e-05 meses\n"
     ]
    }
   ],
   "source": [
    "# tiempo de integracion\n",
    "\n",
    "# -------------  usando linea de base MAXIMA \n",
    "\n",
    "tin = ((2*(Boltzmann)*Tsys*(SNR)/(A*Sv_max_fore) )**(2))/ (N*(N-1)*ΔV)\n",
    "print(tin,'s  ------------------------------ MAXIMA linea de base')\n",
    "\n",
    "\n",
    "print( tin*(1/60),'min')\n",
    "print( tin*(1/60)*(1/60),'hs')\n",
    "print( tin*(1/60)*(1/60)*(1/24),'dias')\n",
    "print( tin*(1/60)*(1/60)*(1/24)*(1/30),'meses')\n",
    "\n",
    "\n",
    "\n",
    "# ------------ Usando linea de base MINIMA \n",
    "\n",
    "tin = ((2*(Boltzmann)*Tsys*(SNR)/(A*Sv_min_fore) )**(2))/ (N*(N-1)*ΔV)\n",
    "print(tin,'s  -------------------------------MINIMA linea de base ')\n",
    "\n",
    "\n",
    "print( tin*(1/60),'min')\n",
    "print( tin*(1/60)*(1/60),'hs')\n",
    "print( tin*(1/60)*(1/60)*(1/24),'dias')\n",
    "print( tin*(1/60)*(1/60)*(1/24)*(1/30),'meses')"
   ]
  },
  {
   "cell_type": "code",
   "execution_count": null,
   "id": "b733c047",
   "metadata": {},
   "outputs": [],
   "source": []
  },
  {
   "cell_type": "code",
   "execution_count": null,
   "id": "17d918b4",
   "metadata": {},
   "outputs": [],
   "source": []
  },
  {
   "cell_type": "code",
   "execution_count": null,
   "id": "644ff1a0",
   "metadata": {},
   "outputs": [],
   "source": []
  }
 ],
 "metadata": {
  "kernelspec": {
   "display_name": "Python 3 (ipykernel)",
   "language": "python",
   "name": "python3"
  },
  "language_info": {
   "codemirror_mode": {
    "name": "ipython",
    "version": 3
   },
   "file_extension": ".py",
   "mimetype": "text/x-python",
   "name": "python",
   "nbconvert_exporter": "python",
   "pygments_lexer": "ipython3",
   "version": "3.10.6"
  }
 },
 "nbformat": 4,
 "nbformat_minor": 5
}
