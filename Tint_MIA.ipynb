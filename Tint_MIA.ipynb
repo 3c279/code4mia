{
 "cells": [
  {
   "cell_type": "code",
   "execution_count": 75,
   "id": "f9378a19",
   "metadata": {},
   "outputs": [],
   "source": [
    "# --------------------------------------------       Pathfinder MIA       -----------------------------------------"
   ]
  },
  {
   "cell_type": "code",
   "execution_count": 76,
   "id": "f39e105e",
   "metadata": {},
   "outputs": [],
   "source": [
    "import numpy as np\n",
    "import matplotlib.pyplot as plt\n",
    "import scipy as scy"
   ]
  },
  {
   "cell_type": "code",
   "execution_count": 77,
   "id": "a99fc310",
   "metadata": {},
   "outputs": [
    {
     "name": "stdout",
     "output_type": "stream",
     "text": [
      "1.380649e-23 j/k\n"
     ]
    }
   ],
   "source": [
    "#  Constante de Boltzmann\n",
    "#  Valores de k   \tUnidades\n",
    "#  1.380 649 × 10 −23\tJ/K\n",
    "#  8,617 333 262 145 × 10 −5\teV/K\n",
    "#  1.380 649 × 10 −16\tergio/ K \n",
    "\n",
    "\n",
    "from scipy.constants import Boltzmann\n",
    "print(Boltzmann,'j/k')"
   ]
  },
  {
   "cell_type": "code",
   "execution_count": 78,
   "id": "b9d9728f",
   "metadata": {},
   "outputs": [],
   "source": [
    "# .................................................   1    SEFD     ................................................"
   ]
  },
  {
   "cell_type": "code",
   "execution_count": 79,
   "id": "2e2cf70b",
   "metadata": {},
   "outputs": [],
   "source": [
    "# Temperatura del sistema en grados Kelvin, antena MIA \n",
    "\n",
    "Tsys= 75 # Temperatura del sistema en grados Kelvin"
   ]
  },
  {
   "cell_type": "code",
   "execution_count": 80,
   "id": "25bcf661",
   "metadata": {},
   "outputs": [
    {
     "name": "stdout",
     "output_type": "stream",
     "text": [
      "13.744467859455344 m2\n"
     ]
    }
   ],
   "source": [
    "# Area efectiva\n",
    "from scipy.constants import pi\n",
    "\n",
    "η = 0.7           # eficiencia de apertura \n",
    "D = 5             # diametro geometrico de una antena en metros (m)\n",
    "Ag= pi*((D)**2)/4   # area gemetrica de una antena en metros cuadrados \n",
    "A = η*Ag          # Area efectiva en metros cuadrados \n",
    "print (A,'m2')"
   ]
  },
  {
   "cell_type": "code",
   "execution_count": 81,
   "id": "1fe2ed70",
   "metadata": {},
   "outputs": [
    {
     "name": "stdout",
     "output_type": "stream",
     "text": [
      "1506.7687750277637 jy\n"
     ]
    }
   ],
   "source": [
    "#   System equivalent flux density (Jy) -  sencibilidad del sistema\n",
    "\n",
    "# Algunos ejemplos para tener en cuenta :\n",
    "#  --------------------------------------------------------------------------------------------------------------------------------------------------------\n",
    "#- SEFD is the system equivalent flux density (Jy), defined as the flux density of a radio source that doubles the system temperature. \n",
    "#- Lower values of the SEFD indicate more sensitive performance. For the VLA's 25–meter paraboloids, the SEFD is given by the equation SEFD = 5.62Tsys/ηA, \n",
    "#- where Tsys is the total system temperature (receiver plus antenna plus sky), and ηA is the antenna aperture efficiency in the given band.\n",
    "\n",
    "# for a 6-metre ATA telescope is ~ 6000 Jy. At the other end of the scale, the Arecibo telescope has an SEFD of 3Jy\n",
    "# ---------------------------------------------------------------------------------------------------------------------------------------------------------\n",
    "\n",
    "#   SEFD  para MIA, en unidades jy , conversion a  10e-26 W/m2/Hz \n",
    "#   OBSERVACION :  usamos 10 e- o  1e-\n",
    "#   nJy = 10-9 Jy\n",
    "#   μJy = 10-6 Jy\n",
    "#   mJy = 10-3 Jy\n",
    "#   kJy = 103 Jy\n",
    "\n",
    "# 1 Jy en ...\t... es igual a ...\n",
    "#   SI units\t   10−26 W⋅m−2⋅Hz−1\n",
    "#   CGS units\t   10−23 erg⋅s−1⋅cm−2⋅Hz−1\n",
    "\n",
    "\n",
    "SEFD= ( (2*(Boltzmann)*Tsys)/ A )/ (10e-26 )  \n",
    "\n",
    "print(SEFD, 'jy') "
   ]
  },
  {
   "cell_type": "code",
   "execution_count": 82,
   "id": "0353cfdf",
   "metadata": {},
   "outputs": [],
   "source": [
    "#                         Simulación para obtener el minimo de densidad de flujo detectable\n",
    "\n",
    "# parametros a utilizar\n",
    "\n",
    "SNR = 37              # señal - ruido\n",
    "T=  1              # tiempo de integracion en segundos\n",
    "#v=                    # frecuencia de observacion\n",
    "Δv= 1000000         # Ancho de banda [Hz]"
   ]
  },
  {
   "cell_type": "code",
   "execution_count": 83,
   "id": "7ff8f285",
   "metadata": {
    "scrolled": true
   },
   "outputs": [
    {
     "name": "stdout",
     "output_type": "stream",
     "text": [
      "120.0\n"
     ]
    }
   ],
   "source": [
    "# Número de pares de antenas, podemos usar de 3 - 16\n",
    "N=16\n",
    "P= N*(N-1)/2\n",
    "print(P)"
   ]
  },
  {
   "cell_type": "code",
   "execution_count": 84,
   "id": "2e9e586f",
   "metadata": {},
   "outputs": [
    {
     "name": "stdout",
     "output_type": "stream",
     "text": [
      "299792458.0 m/s = velocidad de la luz \n",
      "17  = z\n",
      "3.78 m = longitud de onda observada\n",
      "1427583133.3333335 Hz = frecuencia de emision \n",
      "79310174.07407409 Hz = frecuencia de observacion\n",
      "78.88888888888889 MHz\n",
      "78888888.88888888 Hz\n"
     ]
    }
   ],
   "source": [
    "# ----------------------------------------   Redshift y  longitud de onda observada    -------------------------------------\n",
    "\n",
    "# constante de velocidad de la luz \n",
    "\n",
    "from scipy.constants import speed_of_light\n",
    "print(speed_of_light,'m/s = velocidad de la luz ')\n",
    "\n",
    "\n",
    "#  REDSHIFT --------------------------------------------------------------------------------------------\n",
    "\n",
    "z = 17              # Redshift\n",
    "print(z,' = z')\n",
    "\n",
    "\n",
    "# longitud de onda observada ---------------------------------------------------------------------------\n",
    "\n",
    "Le = 0.21              # longitud de onda emitida  [m]\n",
    "\n",
    "Lo = ( 1 + z )*Le      # Longitud de onda observada [m]\n",
    "print (Lo,'m = longitud de onda observada')\n",
    "\n",
    "\n",
    "#frecuencia de emision  --------------------------------------------------------------------------------\n",
    "\n",
    "Ve = (speed_of_light)/Le   # frecuencia de emision \n",
    "print(Ve,'Hz = frecuencia de emision ')\n",
    "\n",
    "#frecuencia de observación  ----------------------------------------------------------------------------\n",
    "\n",
    "Vo = Ve/(1+z)\n",
    "print(Vo,'Hz = frecuencia de observacion')\n",
    "\n",
    "\n",
    "#frecuencia de observación HI ----------------------------------------------------------------------------\n",
    " \n",
    "V = 1420 /(1+z)    # Frec de observacion en [MHz]\n",
    "print(V,'MHz')\n",
    "\n",
    "Vhz = V*1000000 \n",
    "print(Vhz,'Hz')\n",
    "\n"
   ]
  },
  {
   "cell_type": "code",
   "execution_count": 85,
   "id": "918d0df5",
   "metadata": {},
   "outputs": [
    {
     "name": "stdout",
     "output_type": "stream",
     "text": [
      "9.223199999999998e-05 rad   = Θ maximo\n",
      "19.024233479999996 arcoseg =  Θ maximo \n",
      "0.11528999999999998 rad =  Θ minimo \n",
      "23780.291849999994 arcoseg = =  Θ minimo\n",
      "7.56e-05 rad\n",
      "0.0945 rad\n"
     ]
    }
   ],
   "source": [
    "# -------------------------------------- Resolucion conforme la linea de base ---------------------------------------\n",
    "\n",
    "# Entonces tenemos  para  theta_max < theta < theta_min.\n",
    "\n",
    "# Sean las lineas de base siguientes:\n",
    "\n",
    "bmax = 50000    # baseline  max en metros [m]\n",
    "bmin = 40      # baseline  min  no sabemos cuanto es la minima distancia entre las antenas, pero supongamos que es x [m]\n",
    "\n",
    "\n",
    "\n",
    "# RESOLUCION --------------------------------------------------------------------------------------------\n",
    "\n",
    "# Resolucion utilizando la MAXIMA distacia de linea de base .............................................\n",
    "\n",
    "theta_max = 1.22* Lo/bmax                        # en radianes\n",
    "print(theta_max,'rad   = Θ maximo')\n",
    "\n",
    "\n",
    "theta_max_arc = (1.22* Lo/bmax)*206265           # en arcoseg\n",
    "\n",
    "print(theta_max_arc,'arcoseg =  Θ maximo ')\n",
    "\n",
    "\n",
    "# Resolucion utilizando la MINIMA  distacia de linea de base ............................................\n",
    "\n",
    "theta_min = 1.22* Lo/bmin                        # en radianes\n",
    "print(theta_min,'rad =  Θ minimo ')\n",
    "\n",
    "\n",
    "theta_max_arc = (1.22* Lo/bmin)*206265           # en arcoseg\n",
    "\n",
    "print(theta_max_arc,'arcoseg = =  Θ minimo')\n",
    "\n",
    "\n",
    "\n",
    "# entonces    theta_max < theta < theta_min. -------------------------------------------------------------\n",
    "# aproximadamente podemos decir  Θ-maximo < Θ < Θ minimo\n",
    "\n",
    "theta_max_b= Lo/bmax\n",
    "print(theta_max_b,'rad') \n",
    "#print ( theta_max*206264.8062471,'arcseg' )\n",
    "\n",
    "theta_min_b = Lo /bmin\n",
    "print(theta_min_b,'rad')\n",
    "#print ( theta_min*206264.8062471,'arcseg' )"
   ]
  },
  {
   "cell_type": "code",
   "execution_count": 86,
   "id": "008ca936",
   "metadata": {},
   "outputs": [],
   "source": [
    "# -----------------------------------      4    FUENTE DE OBSERVACION            ----------------------------------------\n"
   ]
  },
  {
   "cell_type": "code",
   "execution_count": 87,
   "id": "a28f6731",
   "metadata": {},
   "outputs": [
    {
     "name": "stdout",
     "output_type": "stream",
     "text": [
      "17 = z\n",
      "49.068 K\n"
     ]
    }
   ],
   "source": [
    "# Temperatura - CMB\n",
    "\n",
    "To = 2.726  # en grados K\n",
    "\n",
    "Tcmb = (1+z)*To\n",
    "print(z,'= z')\n",
    "print(Tcmb,'K')"
   ]
  },
  {
   "cell_type": "code",
   "execution_count": 88,
   "id": "6e4ce2cf",
   "metadata": {},
   "outputs": [
    {
     "name": "stdout",
     "output_type": "stream",
     "text": [
      "17 = z\n",
      "0.016264273881302395 K = ΔTb\n"
     ]
    }
   ],
   "source": [
    "# Temeratura de brillo diferencial ( differential brightness temperature  - DBT )\n",
    "\n",
    "#     Aproximadamente la temperatura de brillo de los atomos de HI, utilizando la Tcmb\n",
    "#     y usando que : \n",
    "#     Ωmh**2 = 0.134 ± 0.006\n",
    "#     Ωbh**2 = 0.023 ± 0.001\n",
    "\n",
    "#     EL max {ΔTb = 0.022K} apriximadamente\n",
    "#  Como referencia podeos tomar  Ts = 30   para delta = 0 y z=15\n",
    "\n",
    "\n",
    "Ts=30      # esta temperatura de spin la ajusto tal que no supere el maximo, lo cual concuerda con los graficos asociados a DBT\n",
    "\n",
    "\n",
    "ΔTb = 0.025 + 0.025*((0.023)/0.023)*(0.15/(0.134)**(1/2))* (((1+z) /10)**(1/2))*( 1 - Tcmb/Ts)\n",
    "\n",
    "\n",
    "print(z,'= z')\n",
    "print (ΔTb,'K = ΔTb')\n"
   ]
  },
  {
   "cell_type": "code",
   "execution_count": 89,
   "id": "adf1de30",
   "metadata": {},
   "outputs": [
    {
     "name": "stdout",
     "output_type": "stream",
     "text": [
      "2.673791941173443e-34 W/m2/Hz\n",
      "2.673791941173443e-08 jy =    baseline maxima\n",
      "4.177799908083504e-28 W/m2/Hz\n",
      "0.041777999080835036 jy =    baseline minima\n"
     ]
    }
   ],
   "source": [
    "#----------------------------------------Flujo utilizando la temperatura diferencial ΔTb\n",
    "\n",
    "\n",
    "# utilizando la MAXIMA linea de base   ------------------------------------------------------------\n",
    "#Vf= 95172208.8888889   # frecuencia de observacion Hz\n",
    "\n",
    "\n",
    "\n",
    "Termino_1=(2*Boltzmann)*ΔTb*(Vo)**2\n",
    "#print(Termino_1)  \n",
    "\n",
    "Termino_2=(theta_max)**2\n",
    "#print(Termino_2) \n",
    "\n",
    "Termino_3 = (speed_of_light)**2\n",
    "#print(Termino_3) \n",
    "\n",
    "Sv_max_Δ = (Termino_1*Termino_2)/Termino_3\n",
    "print(Sv_max_Δ,'W/m2/Hz')\n",
    "print(Sv_max_Δ/1e-26,'jy =    baseline maxima')\n",
    "\n",
    "\n",
    "# utilizando la MINIMA  linea de base---------------------------- -----------------------------------\n",
    "\n",
    "Termino_1=(2*Boltzmann)*ΔTb*(Vo)**2\n",
    "#print(Termino_1)  \n",
    "\n",
    "Termino_2=(theta_min)**2\n",
    "#print(Termino_2) \n",
    "\n",
    "Termino_3 = (speed_of_light)**2\n",
    "#print(Termino_3) \n",
    "\n",
    "Sv_min_Δ = (Termino_1*Termino_2)/Termino_3\n",
    "print(Sv_min_Δ,'W/m2/Hz')\n",
    "print(Sv_min_Δ/1e-26,'jy =    baseline minima')"
   ]
  },
  {
   "cell_type": "code",
   "execution_count": 90,
   "id": "1818929b",
   "metadata": {},
   "outputs": [],
   "source": [
    "# tiempo de integracion\n",
    "\n",
    "# parametros \n",
    "# Se considera el mejor flujo detectable, de acuerdo a la configuracion del Array\n",
    "# usar la densidad de flujo calculada anteriormente, elegir entre baseline max o min\n",
    "\n",
    "   \n",
    "ΔV= 2000000   # ancho de banda en [Hz]"
   ]
  },
  {
   "cell_type": "code",
   "execution_count": 91,
   "id": "8bd4658d",
   "metadata": {},
   "outputs": [
    {
     "name": "stdout",
     "output_type": "stream",
     "text": [
      "9.057330475034702e+17 s  ------------------------------ MAXIMA linea de base\n",
      "1.5095550791724504e+16 min\n",
      "251592513195408.4 hs\n",
      "10483021383142.016 dias\n",
      "349434046104.7338 meses\n",
      "370988.2562574214 s  -------------------------------MINIMA linea de base \n",
      "6183.137604290357 min\n",
      "103.05229340483928 hs\n",
      "4.2938455585349695 dias\n",
      "0.14312818528449897 meses\n"
     ]
    }
   ],
   "source": [
    "# tiempo de integracion  utilizando Tb # temperatura diferencial ΔTb ------------------  \n",
    "\n",
    "# -------------  usando linea de base MAXIMA \n",
    "\n",
    "tin_Δ = ((2*(Boltzmann)*Tsys*(SNR)/(A*Sv_max_Δ) )**(2))/ (N*(N-1)*ΔV)\n",
    "print(tin_Δ,'s  ------------------------------ MAXIMA linea de base')\n",
    "\n",
    "\n",
    "print( tin_Δ*(1/60),'min')\n",
    "print( tin_Δ*(1/60)*(1/60),'hs')\n",
    "print( tin_Δ*(1/60)*(1/60)*(1/24),'dias')\n",
    "print( tin_Δ*(1/60)*(1/60)*(1/24)*(1/30),'meses')\n",
    "\n",
    "\n",
    "\n",
    "# ------------ Usando linea de base MINIMA \n",
    "\n",
    "tin_Δ = ((2*(Boltzmann)*Tsys*(SNR)/(A*Sv_min_Δ) )**(2))/ (N*(N-1)*ΔV)\n",
    "print(tin_Δ,'s  -------------------------------MINIMA linea de base ')\n",
    "\n",
    "\n",
    "print( tin_Δ*(1/60),'min')\n",
    "print( tin_Δ*(1/60)*(1/60),'hs')\n",
    "print( tin_Δ*(1/60)*(1/60)*(1/24),'dias')\n",
    "print( tin_Δ*(1/60)*(1/60)*(1/24)*(1/30),'meses')\n"
   ]
  },
  {
   "cell_type": "code",
   "execution_count": 92,
   "id": "b2e937d8",
   "metadata": {},
   "outputs": [],
   "source": [
    "# ////////////////////////////////////             SOLO UNA ANTENA             //////////////////////////////////////////\n",
    " \n",
    "\n",
    "# tiempo de integracion para una sola antena "
   ]
  },
  {
   "cell_type": "code",
   "execution_count": 93,
   "id": "23c0cb57",
   "metadata": {},
   "outputs": [
    {
     "name": "stdout",
     "output_type": "stream",
     "text": [
      "3.2675333377128086e-26 W/m2/Hz\n",
      "0.32675333377128085 jy\n"
     ]
    }
   ],
   "source": [
    "# temperatura de la fuente a flujo de la fuente  utilizando la ecuacion de transformacion de temperatura --- flujo\n",
    "\n",
    "#T_f = -0.09 # temperatura de la fuente en K\n",
    "\n",
    "\n",
    "S_f= (2*(Boltzmann)/A)*ΔTb \n",
    "\n",
    "print(S_f,'W/m2/Hz')\n",
    "\n",
    "print(S_f/(10e-26),'jy')\n",
    "\n",
    "\n",
    "\n"
   ]
  },
  {
   "cell_type": "code",
   "execution_count": 94,
   "id": "40e4a2e3",
   "metadata": {},
   "outputs": [
    {
     "name": "stdout",
     "output_type": "stream",
     "text": [
      "17 = z\n",
      "58221.931992951744 s\n",
      "970.3655332158623 min\n",
      "16.17275888693104 hs\n",
      "0.6738649536221266 dias\n",
      "0.022462165120737555 meses\n"
     ]
    }
   ],
   "source": [
    "# tiempo de integracion para una sola antena\n",
    "# F_m = 5.02256258342588e-26\n",
    "\n",
    "\n",
    "\n",
    "N=1   # numero de observaciones \n",
    "\n",
    "\n",
    "\n",
    "Δt = ((4*(Boltzmann)*Tsys*(SNR)/(A*S_f))**(2))/ (ΔV*N)\n",
    "print(z,'= z')\n",
    "print(Δt,'s' )\n",
    "\n",
    "print( Δt*(1/60),'min')\n",
    "print( Δt*(1/60)*(1/60),'hs')\n",
    "print( Δt*(1/60)*(1/60)*(1/24),'dias')\n",
    "print( Δt*(1/60)*(1/60)*(1/24)*(1/30),'meses')\n",
    "\n"
   ]
  },
  {
   "cell_type": "code",
   "execution_count": 95,
   "id": "72458a89",
   "metadata": {},
   "outputs": [],
   "source": [
    "#                                                     RESUMIENDO "
   ]
  },
  {
   "cell_type": "code",
   "execution_count": 31,
   "id": "66eee9a2",
   "metadata": {},
   "outputs": [],
   "source": [
    "# calculo del flujo utilizando el angulo solido"
   ]
  },
  {
   "cell_type": "code",
   "execution_count": 32,
   "id": "c7b10986",
   "metadata": {},
   "outputs": [],
   "source": [
    "# resolucion de una sola antena para una frecuencia observada\n",
    "\n",
    "#theta_D = 1.22* Lo/D                        # en radianes\n",
    "#print(theta_D,'rad')"
   ]
  },
  {
   "cell_type": "code",
   "execution_count": 33,
   "id": "ca945376",
   "metadata": {},
   "outputs": [],
   "source": [
    "# temperatura que quiero medir a redshift del observador \n",
    "\n",
    "#T_ob = Tcmb + ΔTb    # temperatura observada a ese z\n",
    "\n",
    "#print(z,'= z')\n",
    "\n",
    "#print (T_ob,'K')\n",
    "\n",
    "\n",
    "# Entonces la temperatura anterior observada en la actualidad es \n",
    "\n",
    "#print('0 = z')\n",
    "\n",
    "#T_obs = T_ob/ (1+z)\n",
    "\n",
    "#print(T_obs,'K')\n"
   ]
  },
  {
   "cell_type": "code",
   "execution_count": 877,
   "id": "c6b67e33",
   "metadata": {},
   "outputs": [],
   "source": [
    "#  aora calculo el flujo de la fuente observada con la antena de diametro D, con una temperatura de brillo T_obs \n",
    "#  y una frecuencia de obervacion Vo, correspondiente al z\n",
    "\n",
    "\n",
    "\n",
    "#Termino_1=(2*Boltzmann)*T_obs*(Vo)**2\n",
    "#print(Termino_1)  \n",
    "\n",
    "#Termino_2=(theta_D)**2\n",
    "#print(Termino_2) \n",
    "\n",
    "#Termino_3 = (speed_of_light)**2\n",
    "#print(Termino_3) \n",
    "\n",
    "#Sv_max_Δ = (Termino_1*Termino_2)/Termino_3\n",
    "#print(Sv_max_Δ,'W/m2/Hz')\n",
    "#print(Sv_max_Δ/1e-26,'jy')\n",
    "\n",
    "\n",
    "\n",
    "\n"
   ]
  },
  {
   "cell_type": "code",
   "execution_count": null,
   "id": "bf263321",
   "metadata": {},
   "outputs": [],
   "source": []
  },
  {
   "cell_type": "code",
   "execution_count": null,
   "id": "b290ad3c",
   "metadata": {},
   "outputs": [],
   "source": []
  }
 ],
 "metadata": {
  "kernelspec": {
   "display_name": "Python 3 (ipykernel)",
   "language": "python",
   "name": "python3"
  },
  "language_info": {
   "codemirror_mode": {
    "name": "ipython",
    "version": 3
   },
   "file_extension": ".py",
   "mimetype": "text/x-python",
   "name": "python",
   "nbconvert_exporter": "python",
   "pygments_lexer": "ipython3",
   "version": "3.10.6"
  }
 },
 "nbformat": 4,
 "nbformat_minor": 5
}
